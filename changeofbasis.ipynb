{
 "cells": [
  {
   "cell_type": "code",
   "execution_count": null,
   "metadata": {},
   "outputs": [],
   "source": [
    "from typing import Any\n",
    "import numpy as np\n",
    "from sphere_sampling import cartesian_product, sample_sphere_random, Coordinates, sample_sphere_uniform\n",
    "from soap_package5 import atomic_neighbour_density\n",
    "import scipy\n",
    "from scipy.special import sph_harm\n",
    "from ase import Atoms\n",
    "from nptyping import NDArray"
   ]
  },
  {
   "cell_type": "code",
   "execution_count": null,
   "metadata": {},
   "outputs": [],
   "source": [
    "OneDArray = NDArray[(Any,), float]\n",
    "TwoDArray = NDArray[(Any, Any), float]\n",
    "Coordinate = NDArray[(3), float]\n",
    "\n",
    "\n",
    "N_SAMPLE = 1000  # number of points to sample for the atomic neighbour density"
   ]
  },
  {
   "cell_type": "code",
   "execution_count": null,
   "metadata": {},
   "outputs": [],
   "source": [
    "def overlaps(n_max: int) -> TwoDArray:\n",
    "    \"\"\"\n",
    "    generate the matrix S of overlaps\n",
    "    \"\"\"\n",
    "    ns = np.arange(n_max) + 1  # i.e. [1, 2, 3, ..., n_max]\n",
    "\n",
    "    a, b = cartesian_product(ns, ns).T\n",
    "    S = np.sqrt((2*a+5) * (2*b+5)) / (5+a+b)\n",
    "    return S.reshape(n_max, n_max)"
   ]
  },
  {
   "cell_type": "code",
   "execution_count": null,
   "metadata": {},
   "outputs": [],
   "source": [
    "def wmatrix (n_max: int) -> TwoDArray:\n",
    "    \"\"\"\n",
    "    generate W weighting matrix\n",
    "    \"\"\"\n",
    "    S = overlaps(n_max=n_max)\n",
    "    S_inv = np.linalg.inv(S)\n",
    "    return scipy.linalg.sqrtm(S_inv)"
   ]
  },
  {
   "cell_type": "code",
   "execution_count": null,
   "metadata": {},
   "outputs": [],
   "source": [
    "def radialbasis(n :int, rcoord: Coordinate):\n",
    "    "
   ]
  }
 ],
 "metadata": {
  "language_info": {
   "name": "python"
  },
  "orig_nbformat": 4
 },
 "nbformat": 4,
 "nbformat_minor": 2
}
