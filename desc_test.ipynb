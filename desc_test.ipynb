{
 "cells": [
  {
   "cell_type": "code",
   "execution_count": 9,
   "metadata": {},
   "outputs": [],
   "source": [
    "from ase.lattice.cubic import Diamond\n",
    "from soap_package5 import  soap_desc\n",
    "from ase.io import read\n",
    "\n",
    "atoms = read(\"structure_1.5gcm-3_10ps\",-1)"
   ]
  },
  {
   "cell_type": "code",
   "execution_count": 10,
   "metadata": {},
   "outputs": [
    {
     "data": {
      "text/plain": [
       "Atoms(symbols='H200', pbc=True, cell=[13.855607200747134, 13.855607200747134, 13.855607200747134])"
      ]
     },
     "execution_count": 10,
     "metadata": {},
     "output_type": "execute_result"
    }
   ],
   "source": [
    "atoms"
   ]
  },
  {
   "cell_type": "code",
   "execution_count": 12,
   "metadata": {},
   "outputs": [
    {
     "data": {
      "text/plain": [
       "array([[ 8.35985855e-01,  7.62993014e-02, -3.50504637e-01, ...,\n",
       "         1.77765469e-05,  4.21399843e-03,  1.40896645e-04],\n",
       "       [ 8.99460578e-01,  7.54223826e-02, -2.53532184e-01, ...,\n",
       "        -1.19962433e-05,  5.75907354e-03,  1.06463545e-04],\n",
       "       [ 6.73584572e-01,  2.56165237e-02, -4.21834757e-01, ...,\n",
       "         2.31026538e-05,  2.78256351e-03,  3.67592858e-05],\n",
       "       ...,\n",
       "       [ 6.62453857e-01,  1.22738500e-02, -4.07239382e-01, ...,\n",
       "        -2.40849603e-05,  2.95238938e-03,  1.53503438e-05],\n",
       "       [ 7.25808244e-01,  6.37294716e-02, -4.37644976e-01, ...,\n",
       "         9.43988543e-07,  2.90601349e-03,  3.55674090e-05],\n",
       "       [ 5.68527148e-01,  3.58788478e-02, -3.99689087e-01, ...,\n",
       "         5.84374890e-06,  2.82364299e-03,  3.13166719e-05]])"
      ]
     },
     "execution_count": 12,
     "metadata": {},
     "output_type": "execute_result"
    }
   ],
   "source": [
    "soap_desc(atoms,rcut = 3.7,l_max = 1, n_max = 12,atom_sigma = 0.5)"
   ]
  },
  {
   "cell_type": "code",
   "execution_count": null,
   "metadata": {},
   "outputs": [],
   "source": []
  }
 ],
 "metadata": {
  "interpreter": {
   "hash": "a3a0c792f94b192d2e83ae3975610da2fee10e842e7493d7de8f92556dd17784"
  },
  "kernelspec": {
   "display_name": "Python 3.9.4 ('envi1')",
   "language": "python",
   "name": "python3"
  },
  "language_info": {
   "codemirror_mode": {
    "name": "ipython",
    "version": 3
   },
   "file_extension": ".py",
   "mimetype": "text/x-python",
   "name": "python",
   "nbconvert_exporter": "python",
   "pygments_lexer": "ipython3",
   "version": "3.9.4"
  },
  "orig_nbformat": 4
 },
 "nbformat": 4,
 "nbformat_minor": 2
}
